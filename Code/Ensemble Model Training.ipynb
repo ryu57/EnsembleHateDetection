{
 "cells": [
  {
   "cell_type": "code",
   "execution_count": 1,
   "id": "0e2c7e02-39c5-4dcd-bdf7-e98013155a19",
   "metadata": {},
   "outputs": [],
   "source": [
    "import pandas as pd\n",
    "import numpy as np\n",
    "import random\n",
    "import re\n",
    "import time\n",
    "import sys\n",
    "\n",
    "import nltk\n",
    "from nltk.tokenize import word_tokenize\n",
    "\n",
    "import gensim.downloader as api\n",
    "import gensim\n",
    "from gensim.models import Word2Vec, KeyedVectors\n",
    "\n",
    "import tensorflow as tf\n",
    "from tensorflow.keras.preprocessing.sequence import pad_sequences\n",
    "import tensorflow_hub as hub\n",
    "import tensorflow_text as text\n",
    "\n",
    "from keras.models import Sequential, Model\n",
    "from keras.layers import LSTM, Embedding, Dense, SpatialDropout1D, Conv1D, GlobalMaxPooling1D, MaxPooling1D, Flatten, InputLayer, Input, Dropout, Concatenate, GRU\n",
    "\n",
    "\n",
    "\n",
    "import joblib\n",
    "\n",
    "import os\n",
    "\n",
    "from imblearn.over_sampling import RandomOverSampler\n",
    "\n",
    "from sklearn.feature_selection import SelectFromModel\n",
    "from sklearn.linear_model import LogisticRegression\n",
    "from sklearn.metrics import classification_report, make_scorer, f1_score, accuracy_score, precision_score, recall_score\n",
    "from sklearn.model_selection import train_test_split, cross_val_score, KFold\n",
    "from sklearn.svm import LinearSVC\n",
    "from sklearn.feature_extraction.text import CountVectorizer, TfidfVectorizer\n",
    "from sklearn.naive_bayes import MultinomialNB"
   ]
  },
  {
   "cell_type": "code",
   "execution_count": 2,
   "id": "feabe79c-a43b-487d-8633-35d0f70d2a48",
   "metadata": {},
   "outputs": [],
   "source": [
    "df = pd.read_csv(\"datasets/model_training/combined.csv\")"
   ]
  },
  {
   "cell_type": "code",
   "execution_count": 3,
   "id": "19861c46-6c5b-4fdc-88fb-2c8a5f4f7ae3",
   "metadata": {},
   "outputs": [
    {
     "data": {
      "text/html": [
       "<div>\n",
       "<style scoped>\n",
       "    .dataframe tbody tr th:only-of-type {\n",
       "        vertical-align: middle;\n",
       "    }\n",
       "\n",
       "    .dataframe tbody tr th {\n",
       "        vertical-align: top;\n",
       "    }\n",
       "\n",
       "    .dataframe thead th {\n",
       "        text-align: right;\n",
       "    }\n",
       "</style>\n",
       "<table border=\"1\" class=\"dataframe\">\n",
       "  <thead>\n",
       "    <tr style=\"text-align: right;\">\n",
       "      <th></th>\n",
       "      <th>text</th>\n",
       "      <th>class</th>\n",
       "    </tr>\n",
       "  </thead>\n",
       "  <tbody>\n",
       "    <tr>\n",
       "      <th>0</th>\n",
       "      <td>Hurray saving us in so many ways</td>\n",
       "      <td>1</td>\n",
       "    </tr>\n",
       "    <tr>\n",
       "      <th>1</th>\n",
       "      <td>Why would young fighting age men be the vast m...</td>\n",
       "      <td>1</td>\n",
       "    </tr>\n",
       "    <tr>\n",
       "      <th>2</th>\n",
       "      <td>Illegals Dump their Kids at the border like Ro...</td>\n",
       "      <td>1</td>\n",
       "    </tr>\n",
       "    <tr>\n",
       "      <th>3</th>\n",
       "      <td>NY Times Nearly All White States Pose an Array...</td>\n",
       "      <td>0</td>\n",
       "    </tr>\n",
       "    <tr>\n",
       "      <th>4</th>\n",
       "      <td>Orban in Brussels European leaders are ignorin...</td>\n",
       "      <td>0</td>\n",
       "    </tr>\n",
       "    <tr>\n",
       "      <th>...</th>\n",
       "      <td>...</td>\n",
       "      <td>...</td>\n",
       "    </tr>\n",
       "    <tr>\n",
       "      <th>1503141</th>\n",
       "      <td>Antifa The Far Left Black Bloc Organization Gr...</td>\n",
       "      <td>1</td>\n",
       "    </tr>\n",
       "    <tr>\n",
       "      <th>1503142</th>\n",
       "      <td>It was done to a white kid Trust me they won t...</td>\n",
       "      <td>1</td>\n",
       "    </tr>\n",
       "    <tr>\n",
       "      <th>1503143</th>\n",
       "      <td>This is the List of Moral Alignment Chaotic Go...</td>\n",
       "      <td>1</td>\n",
       "    </tr>\n",
       "    <tr>\n",
       "      <th>1503144</th>\n",
       "      <td>Universal truth jew speak has to be the most r...</td>\n",
       "      <td>1</td>\n",
       "    </tr>\n",
       "    <tr>\n",
       "      <th>1503145</th>\n",
       "      <td>You re right on all counts You re STILL a fagg...</td>\n",
       "      <td>1</td>\n",
       "    </tr>\n",
       "  </tbody>\n",
       "</table>\n",
       "<p>1503146 rows × 2 columns</p>\n",
       "</div>"
      ],
      "text/plain": [
       "                                                      text  class\n",
       "0                         Hurray saving us in so many ways      1\n",
       "1        Why would young fighting age men be the vast m...      1\n",
       "2        Illegals Dump their Kids at the border like Ro...      1\n",
       "3        NY Times Nearly All White States Pose an Array...      0\n",
       "4        Orban in Brussels European leaders are ignorin...      0\n",
       "...                                                    ...    ...\n",
       "1503141  Antifa The Far Left Black Bloc Organization Gr...      1\n",
       "1503142  It was done to a white kid Trust me they won t...      1\n",
       "1503143  This is the List of Moral Alignment Chaotic Go...      1\n",
       "1503144  Universal truth jew speak has to be the most r...      1\n",
       "1503145  You re right on all counts You re STILL a fagg...      1\n",
       "\n",
       "[1503146 rows x 2 columns]"
      ]
     },
     "execution_count": 3,
     "metadata": {},
     "output_type": "execute_result"
    }
   ],
   "source": [
    "df"
   ]
  },
  {
   "cell_type": "code",
   "execution_count": 5,
   "id": "e34a3040-8cc3-4813-b3f8-93c610cbecb8",
   "metadata": {},
   "outputs": [],
   "source": [
    "def feature_rep():\n",
    "    tfhub_handle_preprocess = \"https://tfhub.dev/tensorflow/bert_en_cased_preprocess/3\"\n",
    "    tfhub_handle_encoder = \"https://tfhub.dev/tensorflow/bert_en_cased_L-12_H-768_A-12/3\"\n",
    "\n",
    "    input_layer = tf.keras.layers.Input(shape=(), dtype=tf.string, name='text')\n",
    "    \n",
    "    preprocessing_layer = hub.KerasLayer(tfhub_handle_preprocess, name='preprocessing', trainable=False)\n",
    "    encoder_inputs = preprocessing_layer(input_layer)\n",
    "    \n",
    "    encoder = hub.KerasLayer(tfhub_handle_encoder, trainable=False, name='BERT_encoder')\n",
    "    feature_rep_end = encoder(encoder_inputs)['sequence_output']\n",
    "    \n",
    "    return input_layer,feature_rep_end\n",
    "\n",
    "class CNN_GRU_Model: # Model from Zhang et al.\n",
    "    def __init__(self, input_layer, feature_rep_end):\n",
    "        self.input_layer = input_layer\n",
    "        self.feature_rep_end = feature_rep_end\n",
    "\n",
    "    def build_model(self):\n",
    "\n",
    "        conv_layer = Conv1D(filters=100, kernel_size=4, activation='relu')(self.feature_rep_end)\n",
    "        max_pool = MaxPooling1D(pool_size=4)(conv_layer)\n",
    "        gru = GRU(100, return_sequences=True)(max_pool)\n",
    "        global_pool = GlobalMaxPooling1D()(gru)\n",
    "        dense1 = Dense(2, activation='softmax',kernel_regularizer=tf.keras.regularizers.l1_l2(l1=0.01, l2=0.01))(global_pool)\n",
    "        model = Model(inputs=self.input_layer, outputs=dense1)\n",
    "        return model"
   ]
  },
  {
   "cell_type": "code",
   "execution_count": 7,
   "id": "5d949893-88e6-4a55-bd8e-d94ea3271595",
   "metadata": {},
   "outputs": [],
   "source": [
    "def load_model(model_file):\n",
    "    input_layer,feature_rep_end = feature_rep()\n",
    "    model_class = CNN_GRU_Model(input_layer,feature_rep_end)\n",
    "    model = model_class.build_model()\n",
    "    model.load_weights(model_file)\n",
    "    return model"
   ]
  },
  {
   "cell_type": "code",
   "execution_count": 8,
   "id": "69ae50a9-4cad-4148-a493-327fd0d4c074",
   "metadata": {},
   "outputs": [],
   "source": [
    "model1 = load_model('weights/hateval2.h5')\n",
    "model2 = load_model('weights/davidson.h5')\n",
    "model3 = load_model('weights/qian.h5')\n",
    "model4 = load_model('weights/jigsaw.h5')\n",
    "model5 = load_model('weights/ethos.h5')"
   ]
  },
  {
   "cell_type": "code",
   "execution_count": 11,
   "id": "727113d8-2566-4b21-8456-52ee6ec3b25b",
   "metadata": {},
   "outputs": [],
   "source": [
    "smaller_df = df.sample(n=10000)\n"
   ]
  },
  {
   "cell_type": "code",
   "execution_count": 40,
   "id": "a6961c41-2489-45c2-ab6e-015a3eb5e45a",
   "metadata": {},
   "outputs": [
    {
     "name": "stdout",
     "output_type": "stream",
     "text": [
      "                                                      text  class\n",
      "1190973  It s like you can t do anything without someon...      0\n",
      "931711   Go bleach yourself black pussy doll and then c...      0\n",
      "630078   I d be the best prostitute and madam EVER Hey ...      0\n",
      "392365   Removing User Contributions You DO NOT remove ...      0\n",
      "650048                            Sgp still in bitches dms      0\n",
      "...                                                    ...    ...\n",
      "1172762  All I know is that my disorder ruined my fucki...      0\n",
      "1042016  Fat bastard we won forget you Vets will kick y...      0\n",
      "678011   not one single bone in my body gives a fuck ab...      0\n",
      "1135556                 Wow does ur mom know how gay u are      0\n",
      "445433   Hey I saw the note you left on Essence s Talk ...      0\n",
      "\n",
      "[4897 rows x 2 columns]\n",
      "                                                      text  class\n",
      "178642   According to the supporters of immigration pol...      1\n",
      "766348   oh shut up faggot get a disease overused on tw...      1\n",
      "857866   Getting hit off a cunt thats about 6 foot side...      1\n",
      "1401960  Carolyn is your leader if you re Folk Right Yo...      1\n",
      "312579   Solar powered laser stations along that entire...      1\n",
      "...                                                    ...    ...\n",
      "249490   Ask your mom you son of filthhyy pimp BTW how ...      1\n",
      "6224     DM daddy Show me what your doing to your littl...      1\n",
      "1359478  Bollox That was the norm everywhere at that ti...      1\n",
      "1296684  Cops deal with this shit all the time ALL THE ...      1\n",
      "290802   On today s episode of women will trade their s...      1\n",
      "\n",
      "[5103 rows x 2 columns]\n"
     ]
    }
   ],
   "source": [
    "print(smaller_df[smaller_df[\"class\"] == 0])\n",
    "print(smaller_df[smaller_df[\"class\"] == 1])"
   ]
  },
  {
   "cell_type": "code",
   "execution_count": 12,
   "id": "3326f23a-059a-41fc-9791-0c36a7796c29",
   "metadata": {},
   "outputs": [
    {
     "name": "stdout",
     "output_type": "stream",
     "text": [
      "313/313 [==============================] - 66s 211ms/step\n"
     ]
    }
   ],
   "source": [
    "model1_pred = model1.predict(smaller_df[\"text\"].astype(\"str\"))\n",
    "model2_pred = model2.predict(smaller_df[\"text\"].astype(\"str\"))\n",
    "model3_pred = model2.predict(smaller_df[\"text\"].astype(\"str\"))\n",
    "model4_pred = model2.predict(smaller_df[\"text\"].astype(\"str\"))\n",
    "model5_pred = model2.predict(smaller_df[\"text\"].astype(\"str\"))"
   ]
  },
  {
   "cell_type": "code",
   "execution_count": 13,
   "id": "8d297325-ab84-404c-848a-5e1bddb8f3d8",
   "metadata": {},
   "outputs": [
    {
     "name": "stdout",
     "output_type": "stream",
     "text": [
      "313/313 [==============================] - 73s 232ms/step\n",
      "313/313 [==============================] - 71s 228ms/step\n",
      "313/313 [==============================] - 70s 225ms/step\n",
      "313/313 [==============================] - 71s 226ms/step\n"
     ]
    }
   ],
   "source": []
  },
  {
   "cell_type": "code",
   "execution_count": 17,
   "id": "5030f0ad-7425-4e39-9f46-ded051939ed7",
   "metadata": {},
   "outputs": [
    {
     "name": "stdout",
     "output_type": "stream",
     "text": [
      "(10000, 5)\n"
     ]
    }
   ],
   "source": [
    "model1_pred = model1_pred[:, 1].reshape(-1, 1)\n",
    "model2_pred = model2_pred[:, 1].reshape(-1, 1)\n",
    "model3_pred = model3_pred[:, 1].reshape(-1, 1)\n",
    "model4_pred = model4_pred[:, 1].reshape(-1, 1)\n",
    "model5_pred = model5_pred[:, 1].reshape(-1, 1)\n",
    "\n",
    "# Stack predictions as new features\n",
    "stacked_predictions = np.hstack((model1_pred, model2_pred, model3_pred, model4_pred, model5_pred))\n",
    "\n",
    "# Example of the stacked predictions shape\n",
    "print(stacked_predictions.shape)\n"
   ]
  },
  {
   "cell_type": "code",
   "execution_count": 33,
   "id": "a10e892f-a5c2-4343-86f8-dc181351d06f",
   "metadata": {},
   "outputs": [
    {
     "name": "stdout",
     "output_type": "stream",
     "text": [
      "Epoch 1/10\n",
      "313/313 [==============================] - 2s 5ms/step - loss: 0.6535 - accuracy: 0.6433 - val_loss: 0.6138 - val_accuracy: 0.7190\n",
      "Epoch 2/10\n",
      "313/313 [==============================] - 1s 4ms/step - loss: 0.5925 - accuracy: 0.7120 - val_loss: 0.5753 - val_accuracy: 0.7190\n",
      "Epoch 3/10\n",
      "313/313 [==============================] - 1s 4ms/step - loss: 0.5711 - accuracy: 0.7085 - val_loss: 0.5645 - val_accuracy: 0.7125\n",
      "Epoch 4/10\n",
      "313/313 [==============================] - 1s 4ms/step - loss: 0.5659 - accuracy: 0.7066 - val_loss: 0.5609 - val_accuracy: 0.7095\n",
      "Epoch 5/10\n",
      "313/313 [==============================] - 1s 4ms/step - loss: 0.5644 - accuracy: 0.7057 - val_loss: 0.5597 - val_accuracy: 0.7105\n",
      "Epoch 6/10\n",
      "313/313 [==============================] - 1s 4ms/step - loss: 0.5637 - accuracy: 0.7071 - val_loss: 0.5596 - val_accuracy: 0.7145\n",
      "Epoch 7/10\n",
      "313/313 [==============================] - 1s 4ms/step - loss: 0.5633 - accuracy: 0.7064 - val_loss: 0.5602 - val_accuracy: 0.7130\n",
      "Epoch 8/10\n",
      "313/313 [==============================] - 1s 4ms/step - loss: 0.5633 - accuracy: 0.7051 - val_loss: 0.5586 - val_accuracy: 0.7105\n",
      "Epoch 9/10\n",
      "313/313 [==============================] - 1s 4ms/step - loss: 0.5629 - accuracy: 0.7060 - val_loss: 0.5580 - val_accuracy: 0.7105\n",
      "Epoch 10/10\n",
      "313/313 [==============================] - 1s 4ms/step - loss: 0.5627 - accuracy: 0.7061 - val_loss: 0.5584 - val_accuracy: 0.7120\n"
     ]
    },
    {
     "data": {
      "text/plain": [
       "<keras.callbacks.History at 0x1ca9fe4da20>"
      ]
     },
     "execution_count": 33,
     "metadata": {},
     "output_type": "execute_result"
    }
   ],
   "source": [
    "meta_model_nn = tf.keras.Sequential([\n",
    "    tf.keras.layers.InputLayer(input_shape=(5,)),  # Change input shape based on the number of base models\n",
    "    tf.keras.layers.Dense(10, activation='relu'),\n",
    "    tf.keras.layers.Dense(1, activation='sigmoid')  # For binary classification\n",
    "])\n",
    "meta_model_nn.compile(optimizer='adam', loss='binary_crossentropy', metrics=['accuracy'])\n",
    "meta_model_nn.fit(stacked_predictions, smaller_df[\"class\"], epochs=10, batch_size=32, validation_data=(X_test, y_test))"
   ]
  },
  {
   "cell_type": "code",
   "execution_count": 34,
   "id": "54c5943a-ee65-4295-8adb-829e1366ca80",
   "metadata": {},
   "outputs": [],
   "source": [
    "app_df = pd.read_csv(\"datasets/2021-2022/2021-2022_multi_dataset8.csv\")"
   ]
  },
  {
   "cell_type": "code",
   "execution_count": 35,
   "id": "3da7214f-cf46-4dc0-a58d-39b7329f8a7e",
   "metadata": {},
   "outputs": [
    {
     "name": "stdout",
     "output_type": "stream",
     "text": [
      "5829/5829 [==============================] - 5s 848us/step\n"
     ]
    }
   ],
   "source": [
    "pred = meta_model_nn.predict(app_df[['hateval2', 'davidson','qian','jigsaw','ethos']])"
   ]
  },
  {
   "cell_type": "code",
   "execution_count": 37,
   "id": "d794f112-f390-4634-a43c-3a8d00395263",
   "metadata": {},
   "outputs": [],
   "source": [
    "app_df[\"ensemble\"] = pred"
   ]
  },
  {
   "cell_type": "code",
   "execution_count": 39,
   "id": "99ec6468-4488-4708-9e18-a1cb6d06505a",
   "metadata": {},
   "outputs": [],
   "source": [
    "app_df.to_csv(\"datasets/2021-2022/2021-2022_multi_dataset9.csv\",header=True, index=False)"
   ]
  },
  {
   "cell_type": "markdown",
   "id": "f175365d-ed52-45d7-a5d6-a7dec3530efb",
   "metadata": {},
   "source": [
    "## Testing"
   ]
  },
  {
   "cell_type": "code",
   "execution_count": 18,
   "id": "af9a8ce5-5528-4b55-acf0-27abf4fb6fa1",
   "metadata": {},
   "outputs": [],
   "source": [
    "X_train, X_test, y_train, y_test = train_test_split(stacked_predictions, smaller_df[\"class\"], test_size=0.2)"
   ]
  },
  {
   "cell_type": "code",
   "execution_count": 19,
   "id": "6994388b-3207-49dc-a6b3-2be15784825b",
   "metadata": {},
   "outputs": [
    {
     "name": "stdout",
     "output_type": "stream",
     "text": [
      "Meta-model accuracy: 0.7100\n"
     ]
    }
   ],
   "source": [
    "meta_model = LogisticRegression()\n",
    "meta_model.fit(X_train, y_train)\n",
    "\n",
    "# Evaluate the meta-model\n",
    "meta_preds = meta_model.predict(X_test)\n",
    "accuracy = accuracy_score(y_test, meta_preds)\n",
    "\n",
    "print(f'Meta-model accuracy: {accuracy:.4f}')"
   ]
  },
  {
   "cell_type": "code",
   "execution_count": 24,
   "id": "cecb66cc-4fb2-4905-a752-f7359cc9ad42",
   "metadata": {},
   "outputs": [],
   "source": [
    "meta_model_nn = tf.keras.Sequential([\n",
    "    tf.keras.layers.InputLayer(input_shape=(5,)),  # Change input shape based on the number of base models\n",
    "    tf.keras.layers.Dense(10, activation='relu'),\n",
    "    tf.keras.layers.Dense(1, activation='sigmoid')  # For binary classification\n",
    "])\n"
   ]
  },
  {
   "cell_type": "code",
   "execution_count": 25,
   "id": "c3d0f752-2ccf-4df0-936b-3689e282e3e1",
   "metadata": {},
   "outputs": [],
   "source": [
    "meta_model_nn.compile(optimizer='adam', loss='binary_crossentropy', metrics=['accuracy'])\n"
   ]
  },
  {
   "cell_type": "code",
   "execution_count": 26,
   "id": "746c239e-e0a1-4889-8366-9a0286c05548",
   "metadata": {},
   "outputs": [
    {
     "name": "stdout",
     "output_type": "stream",
     "text": [
      "Epoch 1/10\n",
      "250/250 [==============================] - 1s 4ms/step - loss: 0.6634 - accuracy: 0.5036 - val_loss: 0.6227 - val_accuracy: 0.7120\n",
      "Epoch 2/10\n",
      "250/250 [==============================] - 1s 3ms/step - loss: 0.6077 - accuracy: 0.7240 - val_loss: 0.5960 - val_accuracy: 0.7215\n",
      "Epoch 3/10\n",
      "250/250 [==============================] - 1s 3ms/step - loss: 0.5893 - accuracy: 0.7143 - val_loss: 0.5829 - val_accuracy: 0.7190\n",
      "Epoch 4/10\n",
      "250/250 [==============================] - 1s 3ms/step - loss: 0.5798 - accuracy: 0.7128 - val_loss: 0.5749 - val_accuracy: 0.7195\n",
      "Epoch 5/10\n",
      "250/250 [==============================] - 1s 4ms/step - loss: 0.5741 - accuracy: 0.7111 - val_loss: 0.5698 - val_accuracy: 0.7150\n",
      "Epoch 6/10\n",
      "250/250 [==============================] - 1s 4ms/step - loss: 0.5705 - accuracy: 0.7075 - val_loss: 0.5665 - val_accuracy: 0.7140\n",
      "Epoch 7/10\n",
      "250/250 [==============================] - 1s 4ms/step - loss: 0.5683 - accuracy: 0.7061 - val_loss: 0.5642 - val_accuracy: 0.7115\n",
      "Epoch 8/10\n",
      "250/250 [==============================] - 1s 4ms/step - loss: 0.5670 - accuracy: 0.7066 - val_loss: 0.5631 - val_accuracy: 0.7115\n",
      "Epoch 9/10\n",
      "250/250 [==============================] - 1s 4ms/step - loss: 0.5661 - accuracy: 0.7053 - val_loss: 0.5620 - val_accuracy: 0.7150\n",
      "Epoch 10/10\n",
      "250/250 [==============================] - 1s 4ms/step - loss: 0.5655 - accuracy: 0.7061 - val_loss: 0.5612 - val_accuracy: 0.7130\n"
     ]
    },
    {
     "data": {
      "text/plain": [
       "<keras.callbacks.History at 0x1ca9e1a50c0>"
      ]
     },
     "execution_count": 26,
     "metadata": {},
     "output_type": "execute_result"
    }
   ],
   "source": [
    "meta_model_nn.fit(X_train, y_train, epochs=10, batch_size=32, validation_data=(X_test, y_test))"
   ]
  },
  {
   "cell_type": "code",
   "execution_count": 30,
   "id": "2581cb6c-fd5a-4eb8-bda8-aec2724a6425",
   "metadata": {},
   "outputs": [
    {
     "name": "stdout",
     "output_type": "stream",
     "text": [
      "63/63 [==============================] - 0s 2ms/step\n"
     ]
    }
   ],
   "source": [
    "meta_preds = meta_model_nn.predict(X_test)\n",
    "meta_preds = (meta_preds > 0.5).astype(int).flatten()"
   ]
  },
  {
   "cell_type": "code",
   "execution_count": 32,
   "id": "d9af6f12-f96b-40f1-ae8d-00e63e91d837",
   "metadata": {},
   "outputs": [
    {
     "name": "stdout",
     "output_type": "stream",
     "text": [
      "              precision    recall  f1-score   support\n",
      "\n",
      "           0       0.69      0.79      0.73      1008\n",
      "           1       0.75      0.64      0.69       992\n",
      "\n",
      "    accuracy                           0.71      2000\n",
      "   macro avg       0.72      0.71      0.71      2000\n",
      "weighted avg       0.72      0.71      0.71      2000\n",
      "\n"
     ]
    }
   ],
   "source": [
    "print(classification_report(y_test, meta_preds))"
   ]
  },
  {
   "cell_type": "code",
   "execution_count": null,
   "id": "80ebc89a-e1da-4711-b5ae-1e213f27278c",
   "metadata": {},
   "outputs": [],
   "source": []
  }
 ],
 "metadata": {
  "kernelspec": {
   "display_name": "Python 3 (ipykernel)",
   "language": "python",
   "name": "python3"
  },
  "language_info": {
   "codemirror_mode": {
    "name": "ipython",
    "version": 3
   },
   "file_extension": ".py",
   "mimetype": "text/x-python",
   "name": "python",
   "nbconvert_exporter": "python",
   "pygments_lexer": "ipython3",
   "version": "3.10.13"
  }
 },
 "nbformat": 4,
 "nbformat_minor": 5
}
